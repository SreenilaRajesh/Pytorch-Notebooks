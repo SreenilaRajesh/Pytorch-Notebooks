{
  "nbformat": 4,
  "nbformat_minor": 0,
  "metadata": {
    "colab": {
      "provenance": []
    },
    "kernelspec": {
      "name": "python3",
      "display_name": "Python 3"
    },
    "language_info": {
      "name": "python"
    }
  },
  "cells": [
    {
      "cell_type": "code",
      "execution_count": 27,
      "metadata": {
        "id": "miTvlemk0rRL"
      },
      "outputs": [],
      "source": [
        "# 1. Pytorch is known for conveniently expressing Neural Networks\n",
        "# 2. Pytorch works with Tensor and neural network can be resprsented as a Tensor"
      ]
    },
    {
      "cell_type": "code",
      "source": [
        "import torch\n",
        "import numpy as np\n"
      ],
      "metadata": {
        "id": "kZUuQEuJ8pNu"
      },
      "execution_count": 28,
      "outputs": []
    },
    {
      "cell_type": "markdown",
      "source": [
        "##1. **TENSORS**"
      ],
      "metadata": {
        "id": "w_zBykQu9Mfj"
      }
    },
    {
      "cell_type": "code",
      "source": [
        "#Tensor is a generalization of Scalar (0d or 0 rank), Vector (1d), Matrix  (2d)"
      ],
      "metadata": {
        "id": "3Nr7OiwFKjpb"
      },
      "execution_count": 29,
      "outputs": []
    },
    {
      "cell_type": "code",
      "source": [
        "#Building tensor from different objects"
      ],
      "metadata": {
        "id": "H8ygoXiC1UHk"
      },
      "execution_count": 30,
      "outputs": []
    },
    {
      "cell_type": "code",
      "source": [
        "#from list data\n",
        "data = [[1,2],[3,4]]\n",
        "x_data = torch.tensor(data)\n",
        "print(x_data)\n",
        "print(x_data.dtype)\n",
        "\n",
        "#from numpy array\n",
        "np_array = np.array(data)\n",
        "x_np = torch.from_numpy(np_array)\n",
        "print(x_np)\n",
        "\n",
        "#from another tensor\n",
        "x_ones = torch.ones_like(x_data) # retains the properties of x_data like shape\n",
        "print(f\"Ones Tensor: \\n {x_ones} \\n\")\n",
        "\n",
        "x_rand = torch.rand_like(x_data, dtype=torch.float) # overrides the datatype of x_data\n",
        "print(f\"Random Tensor: \\n {x_rand} \\n\")"
      ],
      "metadata": {
        "colab": {
          "base_uri": "https://localhost:8080/"
        },
        "id": "uChqg_aq9QGJ",
        "outputId": "96a6c934-8658-45dd-c947-884a2f51e75e"
      },
      "execution_count": 31,
      "outputs": [
        {
          "output_type": "stream",
          "name": "stdout",
          "text": [
            "tensor([[1, 2],\n",
            "        [3, 4]])\n",
            "torch.int64\n",
            "tensor([[1, 2],\n",
            "        [3, 4]])\n",
            "Ones Tensor: \n",
            " tensor([[1, 1],\n",
            "        [1, 1]]) \n",
            "\n",
            "Random Tensor: \n",
            " tensor([[0.5824, 0.0044],\n",
            "        [0.4130, 0.2731]], dtype=torch.float32) \n",
            "\n"
          ]
        }
      ]
    },
    {
      "cell_type": "code",
      "source": [
        "##Building tensors given shape\n",
        "shape = (2,3,)\n",
        "rand_tensor = torch.rand(shape)\n",
        "ones_tensor = torch.ones(shape)\n",
        "zeros_tensor = torch.zeros(shape)\n",
        "\n",
        "print(f\"Random Tensor: \\n {rand_tensor} \\n\")\n",
        "print(f\"Ones Tensor: \\n {ones_tensor} \\n\")\n",
        "print(f\"Zeros Tensor: \\n {zeros_tensor}\")"
      ],
      "metadata": {
        "colab": {
          "base_uri": "https://localhost:8080/"
        },
        "id": "ng9yGon2-rDN",
        "outputId": "d06cad9d-8ef0-4c34-95e8-750995e8b3a9"
      },
      "execution_count": 32,
      "outputs": [
        {
          "output_type": "stream",
          "name": "stdout",
          "text": [
            "Random Tensor: \n",
            " tensor([[0.0542, 0.0771, 0.8657],\n",
            "        [0.1812, 0.8101, 0.9985]]) \n",
            "\n",
            "Ones Tensor: \n",
            " tensor([[1., 1., 1.],\n",
            "        [1., 1., 1.]]) \n",
            "\n",
            "Zeros Tensor: \n",
            " tensor([[0., 0., 0.],\n",
            "        [0., 0., 0.]])\n"
          ]
        }
      ]
    },
    {
      "cell_type": "code",
      "source": [
        "#Tensor attributes\n",
        "tensor = torch.rand(3,4)\n",
        "\n",
        "print(f\"Shape of tensor: {tensor.shape}\")\n",
        "print(f\"Datatype of tensor: {tensor.dtype}\")\n",
        "print(f\"Device tensor is stored on: {tensor.device}\")\n"
      ],
      "metadata": {
        "colab": {
          "base_uri": "https://localhost:8080/"
        },
        "id": "Nqs5K16e_gxf",
        "outputId": "06eae91a-0c74-491f-c5cf-4324ea5c9ded"
      },
      "execution_count": 33,
      "outputs": [
        {
          "output_type": "stream",
          "name": "stdout",
          "text": [
            "Shape of tensor: torch.Size([3, 4])\n",
            "Datatype of tensor: torch.float16\n",
            "Device tensor is stored on: cpu\n"
          ]
        }
      ]
    },
    {
      "cell_type": "code",
      "source": [
        "##Tensor operations/functions\n",
        "x = torch.rand(shape)\n",
        "print(\"Is tensor\",torch.is_tensor([[1,2],[3,4]]))#is_tensor(x)\n",
        "print(\"Is non-zero\",torch.is_nonzero(torch.tensor([1]))) #only single element is allowed\n",
        "a = torch.randn(1, 2, 3, 4, 5)#Returns number of elements in the tensor\n",
        "print(\"Number of elements\", torch.numel(a))\n",
        "\n",
        "#Acessing and slicing operations\n",
        "tensor = torch.ones(4, 4)\n",
        "print(f\"First row: {tensor[0]}\")\n",
        "print(f\"First column: {tensor[:, 0]}\")\n",
        "print(f\"Last column: {tensor[..., -1]}\")\n",
        "tensor[:,1] = 0\n",
        "print(tensor)\n",
        "\n",
        "#set_default_dtype\n",
        "torch.set_default_dtype(torch.float16)\n",
        "torch.tensor([1.2, 3]).dtype"
      ],
      "metadata": {
        "colab": {
          "base_uri": "https://localhost:8080/"
        },
        "id": "JrN6fwPhAIJX",
        "outputId": "43c57aca-a99e-43e1-cff4-9e0ae71d47de"
      },
      "execution_count": 34,
      "outputs": [
        {
          "output_type": "stream",
          "name": "stdout",
          "text": [
            "Is tensor False\n",
            "Is non-zero True\n",
            "Number of elements 120\n",
            "First row: tensor([1., 1., 1., 1.])\n",
            "First column: tensor([1., 1., 1., 1.])\n",
            "Last column: tensor([1., 1., 1., 1.])\n",
            "tensor([[1., 0., 1., 1.],\n",
            "        [1., 0., 1., 1.],\n",
            "        [1., 0., 1., 1.],\n",
            "        [1., 0., 1., 1.]])\n"
          ]
        },
        {
          "output_type": "execute_result",
          "data": {
            "text/plain": [
              "torch.float16"
            ]
          },
          "metadata": {},
          "execution_count": 34
        }
      ]
    },
    {
      "cell_type": "markdown",
      "source": [
        "##**2. VECTOR OPERATIONS**"
      ],
      "metadata": {
        "id": "ZyavpObN7sam"
      }
    },
    {
      "cell_type": "code",
      "source": [
        "#DOT PRODUCT\n",
        "t_one = torch.tensor([1,2,3])\n",
        "t_two = torch.tensor([1,2,3])\n",
        "torch.dot(t_one,t_two)"
      ],
      "metadata": {
        "colab": {
          "base_uri": "https://localhost:8080/"
        },
        "id": "VkgdgbLe7zZD",
        "outputId": "721011cb-bacf-4699-ad4b-83bc5d575674"
      },
      "execution_count": 35,
      "outputs": [
        {
          "output_type": "execute_result",
          "data": {
            "text/plain": [
              "tensor(14)"
            ]
          },
          "metadata": {},
          "execution_count": 35
        }
      ]
    },
    {
      "cell_type": "code",
      "source": [
        "#from data\n",
        "data = [[1,2],[3,4]]\n",
        "x_data = torch.tensor(data)\n",
        "print(x_data)"
      ],
      "metadata": {
        "id": "LQN7ateLfHKX",
        "colab": {
          "base_uri": "https://localhost:8080/"
        },
        "outputId": "8dba18d4-f1b3-4d9e-c776-1b954ab0fd7e"
      },
      "execution_count": 36,
      "outputs": [
        {
          "output_type": "stream",
          "name": "stdout",
          "text": [
            "tensor([[1, 2],\n",
            "        [3, 4]])\n"
          ]
        }
      ]
    },
    {
      "cell_type": "code",
      "source": [
        "#adjoint of the matrix/tensor\n",
        "torch.adjoint(x_data)"
      ],
      "metadata": {
        "colab": {
          "base_uri": "https://localhost:8080/"
        },
        "id": "dlAj1ZzWYKgk",
        "outputId": "a55779cc-5683-4995-e60a-00f3d0bbf081"
      },
      "execution_count": 37,
      "outputs": [
        {
          "output_type": "execute_result",
          "data": {
            "text/plain": [
              "tensor([[1, 3],\n",
              "        [2, 4]])"
            ]
          },
          "metadata": {},
          "execution_count": 37
        }
      ]
    },
    {
      "cell_type": "code",
      "source": [
        "#returns the indices of the tensor where index is non-negative\n",
        "torch.argwhere(x_data)"
      ],
      "metadata": {
        "colab": {
          "base_uri": "https://localhost:8080/"
        },
        "id": "V8zu9Zmga7EH",
        "outputId": "a545aeaa-331e-46a3-9c08-d1926ab6383b"
      },
      "execution_count": 38,
      "outputs": [
        {
          "output_type": "execute_result",
          "data": {
            "text/plain": [
              "tensor([[0, 0],\n",
              "        [0, 1],\n",
              "        [1, 0],\n",
              "        [1, 1]])"
            ]
          },
          "metadata": {},
          "execution_count": 38
        }
      ]
    },
    {
      "cell_type": "code",
      "source": [
        "#concatenate\n",
        "torch.cat([x_data,x_data],dim=0)"
      ],
      "metadata": {
        "colab": {
          "base_uri": "https://localhost:8080/"
        },
        "id": "o6hujl3UbiyP",
        "outputId": "06a35608-65ef-43e0-a5d4-50572bb49b2e"
      },
      "execution_count": 39,
      "outputs": [
        {
          "output_type": "execute_result",
          "data": {
            "text/plain": [
              "tensor([[1, 2],\n",
              "        [3, 4],\n",
              "        [1, 2],\n",
              "        [3, 4]])"
            ]
          },
          "metadata": {},
          "execution_count": 39
        }
      ]
    },
    {
      "cell_type": "markdown",
      "source": [
        "## **3. 2 DIMENSIONAL TENSORS**"
      ],
      "metadata": {
        "id": "ir2k6Cb9JGfy"
      }
    },
    {
      "cell_type": "code",
      "source": [
        "##VIEW TENSOR\n",
        "t = torch.arange(16).view(2,2,4)\n",
        "print(\"\\n\",t) ## imagine 2 blocks of 2 rows, 4 columns\n",
        "\n",
        "t = torch.arange(16).view(4,2,2)\n",
        "print(\"\\n\\n\",t) ## imagine 4 blocks of 2 rows, 2 columns"
      ],
      "metadata": {
        "colab": {
          "base_uri": "https://localhost:8080/"
        },
        "id": "FY4FmclbLGtQ",
        "outputId": "11089db2-6254-4ea8-9c3e-afaaf9ac3492"
      },
      "execution_count": 40,
      "outputs": [
        {
          "output_type": "stream",
          "name": "stdout",
          "text": [
            "\n",
            " tensor([[[ 0,  1,  2,  3],\n",
            "         [ 4,  5,  6,  7]],\n",
            "\n",
            "        [[ 8,  9, 10, 11],\n",
            "         [12, 13, 14, 15]]])\n",
            "\n",
            "\n",
            " tensor([[[ 0,  1],\n",
            "         [ 2,  3]],\n",
            "\n",
            "        [[ 4,  5],\n",
            "         [ 6,  7]],\n",
            "\n",
            "        [[ 8,  9],\n",
            "         [10, 11]],\n",
            "\n",
            "        [[12, 13],\n",
            "         [14, 15]]])\n"
          ]
        }
      ]
    },
    {
      "cell_type": "code",
      "source": [
        "## Slicing 3D tensors\n",
        "print(\"\\n\\n\",t[1,:,:])\n",
        "\n",
        "print(\"\\n\\n\",t[1,1:2,:])"
      ],
      "metadata": {
        "colab": {
          "base_uri": "https://localhost:8080/"
        },
        "id": "T3FSrgskMT7v",
        "outputId": "da4c45bc-d114-47fd-bb3b-875764a83c52"
      },
      "execution_count": 41,
      "outputs": [
        {
          "output_type": "stream",
          "name": "stdout",
          "text": [
            "\n",
            "\n",
            " tensor([[4, 5],\n",
            "        [6, 7]])\n",
            "\n",
            "\n",
            " tensor([[6, 7]])\n"
          ]
        }
      ]
    },
    {
      "cell_type": "code",
      "source": [
        "## Matrix multiplication\n",
        "a = torch.arange(6).reshape((3,2))\n",
        "b = torch.arange(6).reshape((2,3))\n",
        "print(torch.matmul(a,b))\n",
        "print(a @ b) ##Both statements are equivalent"
      ],
      "metadata": {
        "colab": {
          "base_uri": "https://localhost:8080/"
        },
        "id": "WXi1CBx9QO1q",
        "outputId": "0261e0c2-94dd-4d07-8fbf-3a7908e24750"
      },
      "execution_count": 42,
      "outputs": [
        {
          "output_type": "stream",
          "name": "stdout",
          "text": [
            "tensor([[ 3,  4,  5],\n",
            "        [ 9, 14, 19],\n",
            "        [15, 24, 33]])\n",
            "tensor([[ 3,  4,  5],\n",
            "        [ 9, 14, 19],\n",
            "        [15, 24, 33]])\n"
          ]
        }
      ]
    },
    {
      "cell_type": "code",
      "source": [
        "## Horizontal split at the mentioned indices\n",
        "t = torch.arange(25.0).reshape(5,5)"
      ],
      "metadata": {
        "id": "mxnlOfS6chxy"
      },
      "execution_count": 49,
      "outputs": []
    },
    {
      "cell_type": "code",
      "source": [
        "torch.hsplit(t,[2,4]) ## horizontal split at the mentioned indices"
      ],
      "metadata": {
        "colab": {
          "base_uri": "https://localhost:8080/"
        },
        "id": "-sh7CjbtckDU",
        "outputId": "d62c79c1-15eb-457b-d38b-308b842c3184"
      },
      "execution_count": 50,
      "outputs": [
        {
          "output_type": "execute_result",
          "data": {
            "text/plain": [
              "(tensor([[ 0.,  1.],\n",
              "         [ 5.,  6.],\n",
              "         [10., 11.],\n",
              "         [15., 16.],\n",
              "         [20., 21.]]),\n",
              " tensor([[ 2.,  3.],\n",
              "         [ 7.,  8.],\n",
              "         [12., 13.],\n",
              "         [17., 18.],\n",
              "         [22., 23.]]),\n",
              " tensor([[ 4.],\n",
              "         [ 9.],\n",
              "         [14.],\n",
              "         [19.],\n",
              "         [24.]]))"
            ]
          },
          "metadata": {},
          "execution_count": 50
        }
      ]
    }
  ]
}