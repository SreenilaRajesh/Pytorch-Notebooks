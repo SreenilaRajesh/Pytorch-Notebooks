{
  "nbformat": 4,
  "nbformat_minor": 0,
  "metadata": {
    "colab": {
      "provenance": []
    },
    "kernelspec": {
      "name": "python3",
      "display_name": "Python 3"
    },
    "language_info": {
      "name": "python"
    }
  },
  "cells": [
    {
      "cell_type": "code",
      "execution_count": null,
      "metadata": {
        "id": "w5JYnXr5zANW"
      },
      "outputs": [],
      "source": [
        " import torch"
      ]
    },
    {
      "cell_type": "markdown",
      "source": [
        "## COMPUTING DERIVATIVES"
      ],
      "metadata": {
        "id": "QS6yr-jy2fMy"
      }
    },
    {
      "cell_type": "code",
      "source": [
        "x = torch.tensor(2.0, requires_grad = True)\n",
        "y = 9*x**4 + 2*x**3 + 3*x**2 + 6*x + 1\n",
        "y.backward() ## Computes the gradient\n",
        "x.grad ##Substitutes to the gradient"
      ],
      "metadata": {
        "colab": {
          "base_uri": "https://localhost:8080/"
        },
        "id": "kiC-d1br1bxY",
        "outputId": "a209bdaf-d086-4f15-820b-5e051348751b"
      },
      "execution_count": null,
      "outputs": [
        {
          "output_type": "execute_result",
          "data": {
            "text/plain": [
              "tensor(330.)"
            ]
          },
          "metadata": {},
          "execution_count": 2
        }
      ]
    },
    {
      "cell_type": "markdown",
      "source": [
        "## COMPUTING PARTIAL DERIVATIVES"
      ],
      "metadata": {
        "id": "DsjfuBK32kZ7"
      }
    },
    {
      "cell_type": "code",
      "source": [
        "x = torch.tensor(2.0, requires_grad = True)\n",
        "z = torch.tensor(1.0, requires_grad = True)\n",
        "y = x**3 + z**2\n",
        "y.backward() ## Computes the gradient\n"
      ],
      "metadata": {
        "id": "zbUTj7O82OGY"
      },
      "execution_count": null,
      "outputs": []
    },
    {
      "cell_type": "code",
      "source": [
        "print(x.grad) ##Substitutes to the gradient\n",
        "print(z.grad)\n"
      ],
      "metadata": {
        "colab": {
          "base_uri": "https://localhost:8080/"
        },
        "id": "4cc6y0ea4A7Q",
        "outputId": "38f3b65e-ed87-4683-f434-834f87f87171"
      },
      "execution_count": null,
      "outputs": [
        {
          "output_type": "stream",
          "name": "stdout",
          "text": [
            "tensor(12.)\n",
            "tensor(2.)\n"
          ]
        }
      ]
    },
    {
      "cell_type": "markdown",
      "source": [
        "## Linear regression"
      ],
      "metadata": {
        "id": "JKYehpI0RGcX"
      }
    },
    {
      "cell_type": "code",
      "source": [
        "w = torch.tensor(3.0, requires_grad = True)\n",
        "b = torch.tensor(1.0, requires_grad = True)"
      ],
      "metadata": {
        "id": "PlqaE2ZFRL59"
      },
      "execution_count": null,
      "outputs": []
    },
    {
      "cell_type": "code",
      "source": [
        "def forward(x):\n",
        "    y = w*x + b\n",
        "    return y"
      ],
      "metadata": {
        "id": "cajhI5NWRcxp"
      },
      "execution_count": null,
      "outputs": []
    },
    {
      "cell_type": "code",
      "source": [
        "x = torch.tensor([4, 7])\n",
        "forward(x)"
      ],
      "metadata": {
        "colab": {
          "base_uri": "https://localhost:8080/"
        },
        "id": "Bu8ZmFIVRgZ1",
        "outputId": "c4884337-dbd4-4e75-ec9c-094906b1e385"
      },
      "execution_count": null,
      "outputs": [
        {
          "output_type": "execute_result",
          "data": {
            "text/plain": [
              "tensor([13., 22.], grad_fn=<AddBackward0>)"
            ]
          },
          "metadata": {},
          "execution_count": 7
        }
      ]
    },
    {
      "cell_type": "code",
      "source": [
        "from torch.nn import Linear"
      ],
      "metadata": {
        "id": "jcsmqo9hUbX4"
      },
      "execution_count": null,
      "outputs": []
    },
    {
      "cell_type": "code",
      "source": [
        "torch.manual_seed(1)\n",
        "model = Linear(in_features = 1, out_features = 1) ##Linear model with input features equals 1 and output features equals 1\n",
        "print(model.bias, model.weight)##using random weights based on seed"
      ],
      "metadata": {
        "colab": {
          "base_uri": "https://localhost:8080/"
        },
        "id": "DnUp2-58UoHC",
        "outputId": "95151cd1-5e38-4783-aa72-a185b290d71c"
      },
      "execution_count": null,
      "outputs": [
        {
          "output_type": "stream",
          "name": "stdout",
          "text": [
            "Parameter containing:\n",
            "tensor([-0.4414], requires_grad=True) Parameter containing:\n",
            "tensor([[0.5153]], requires_grad=True)\n"
          ]
        }
      ]
    },
    {
      "cell_type": "code",
      "source": [
        "##Model prediction for inputs\n",
        "x = torch.tensor([[2.0],[3.3]])\n",
        "model(x)"
      ],
      "metadata": {
        "colab": {
          "base_uri": "https://localhost:8080/"
        },
        "id": "piQ8ya0PU6xz",
        "outputId": "416ccaf8-e832-439e-c543-dac8e9601fa7"
      },
      "execution_count": null,
      "outputs": [
        {
          "output_type": "execute_result",
          "data": {
            "text/plain": [
              "tensor([[0.5891],\n",
              "        [1.2590]], grad_fn=<AddmmBackward0>)"
            ]
          },
          "metadata": {},
          "execution_count": 10
        }
      ]
    },
    {
      "cell_type": "markdown",
      "source": [
        "Custom Linear Regression"
      ],
      "metadata": {
        "id": "IIr0J3FDsjlL"
      }
    },
    {
      "cell_type": "code",
      "source": [
        "import torch\n",
        "import torch.nn as nn\n",
        "import matplotlib.pyplot as plt\n"
      ],
      "metadata": {
        "id": "uMzntm8280qK"
      },
      "execution_count": null,
      "outputs": []
    },
    {
      "cell_type": "code",
      "source": [
        "X=torch.randn(100,1)*10\n",
        "Y = X + 3*torch.randn(100,1)# to move the dataset from centre\n",
        "plt.plot(X.numpy(), Y.numpy(), 'o')# when given o, each datapoint is mentioned as circle\n",
        "plt.xlabel('X')\n",
        "plt.ylabel('Y')\n",
        "plt.show()"
      ],
      "metadata": {
        "colab": {
          "base_uri": "https://localhost:8080/",
          "height": 449
        },
        "id": "KfPE1UZV3IXz",
        "outputId": "cc9b85b7-4fa4-4220-c872-e5833da1cc34"
      },
      "execution_count": null,
      "outputs": [
        {
          "output_type": "display_data",
          "data": {
            "text/plain": [
              "<Figure size 640x480 with 1 Axes>"
            ],
            "image/png": "[encoded data removed]"
          },
          "metadata": {}
        }
      ]
    },
    {
      "cell_type": "markdown",
      "source": [
        "MODEL CLASS CONSTRUCTOR"
      ],
      "metadata": {
        "id": "sIPNEnZmQ5xn"
      }
    },
    {
      "cell_type": "code",
      "source": [
        "class LR(nn.Module):\n",
        "  def __init__(self, input_size, output_size):\n",
        "    super().__init__()\n",
        "    self.linear= nn.Linear(input_size, output_size)\n",
        "  def forward(self, x):\n",
        "    pred = self.linear(x)\n",
        "    return pred"
      ],
      "metadata": {
        "id": "tykukYSBt-gy"
      },
      "execution_count": null,
      "outputs": []
    },
    {
      "cell_type": "markdown",
      "source": [
        "MODEL INSTANTIATION"
      ],
      "metadata": {
        "id": "-CgQysdDQ9ih"
      }
    },
    {
      "cell_type": "code",
      "source": [
        "torch.manual_seed(1)\n",
        "model = LR(1,1)"
      ],
      "metadata": {
        "id": "1ATyYI15yqaE"
      },
      "execution_count": null,
      "outputs": []
    },
    {
      "cell_type": "markdown",
      "source": [
        "EXTRACTING MODEL PARAMETERS"
      ],
      "metadata": {
        "id": "Uj2TkivgRAuX"
      }
    },
    {
      "cell_type": "code",
      "source": [
        "[w, b] = model.parameters()\n",
        "def get_params ():\n",
        "  return (w[0][0].item(), b[0].item())\n"
      ],
      "metadata": {
        "id": "vd9kIm6kzCC8"
      },
      "execution_count": null,
      "outputs": []
    },
    {
      "cell_type": "markdown",
      "source": [
        "DEFINING PLOT FIT FUNCTION"
      ],
      "metadata": {
        "id": "dysR7WyzRHzV"
      }
    },
    {
      "cell_type": "code",
      "source": [
        "import numpy as np"
      ],
      "metadata": {
        "id": "uUYt2xkbFyYz"
      },
      "execution_count": null,
      "outputs": []
    },
    {
      "cell_type": "code",
      "source": [
        "def plot_fit(title):\n",
        "  plt.title = title\n",
        "  w1, b1 = get_params()\n",
        "  x1 = np.array([-30, 30])\n",
        "  y1 = w1*x1 + b1\n",
        "  plt.plot(x1, y1, 'r')\n",
        "  plt.plot(X.numpy(), Y.numpy(), 'o')\n",
        "  plt.xlabel('X')\n",
        "  plt.ylabel('Y')"
      ],
      "metadata": {
        "id": "kLX6QnZ3FTkD"
      },
      "execution_count": null,
      "outputs": []
    },
    {
      "cell_type": "code",
      "source": [
        "plot_fit('Initial Model')"
      ],
      "metadata": {
        "colab": {
          "base_uri": "https://localhost:8080/",
          "height": 449
        },
        "id": "kGxdrGy3FsDe",
        "outputId": "c5881c0c-f28b-4757-e2a0-7adf53c458c0"
      },
      "execution_count": null,
      "outputs": [
        {
          "output_type": "display_data",
          "data": {
            "text/plain": [
              "<Figure size 640x480 with 1 Axes>"
            ],
            "image/png": "[encoded data removed]"
          },
          "metadata": {}
        }
      ]
    },
    {
      "cell_type": "markdown",
      "source": [
        "Training"
      ],
      "metadata": {
        "id": "w3_mQFtuOO98"
      }
    },
    {
      "cell_type": "markdown",
      "source": [
        "Step 1 : Initialize the loss function we want to minimize and optimizer"
      ],
      "metadata": {
        "id": "t7UcSJh41mJA"
      }
    },
    {
      "cell_type": "markdown",
      "source": [
        "Batch Gradient Descent -- gradient is calculated based on entire dataset, based on sum of accumulated errors.Weights are updated using this gradient"
      ],
      "metadata": {
        "id": "apEecuFS72tZ"
      }
    },
    {
      "cell_type": "code",
      "source": [
        "criterion = nn.MSELoss()\n",
        "optimizer = torch.optim.SGD(model.parameters(), lr = 0.001)"
      ],
      "metadata": {
        "id": "eVoYQMRGF4r0"
      },
      "execution_count": null,
      "outputs": []
    },
    {
      "cell_type": "markdown",
      "source": [
        "An epoch in machine learning is one complete pass through the entire training dataset during training."
      ],
      "metadata": {
        "id": "zKu6wel-KQUh"
      }
    },
    {
      "cell_type": "code",
      "source": [
        "print(X, Y)"
      ],
      "metadata": {
        "colab": {
          "base_uri": "https://localhost:8080/"
        },
        "id": "jFMdVaQMVWFG",
        "outputId": "70785345-075c-4af1-f318-1e8bf37c137e"
      },
      "execution_count": null,
      "outputs": [
        {
          "output_type": "stream",
          "name": "stdout",
          "text": [
            "tensor([[ -6.5398],\n",
            "        [-16.0948],\n",
            "        [ -1.0017],\n",
            "        [ -6.0919],\n",
            "        [ -9.7977],\n",
            "        [-16.0910],\n",
            "        [-11.6603],\n",
            "        [-10.7475],\n",
            "        [ -7.7731],\n",
            "        [ -2.5146],\n",
            "        [ -2.2227],\n",
            "        [ 16.8711],\n",
            "        [  2.2843],\n",
            "        [  4.6764],\n",
            "        [ -5.7098],\n",
            "        [  0.1349],\n",
            "        [  6.9954],\n",
            "        [  1.9908],\n",
            "        [  8.6569],\n",
            "        [  2.4440],\n",
            "        [ -6.6291],\n",
            "        [  8.0731],\n",
            "        [  4.3914],\n",
            "        [ 11.7120],\n",
            "        [-22.4556],\n",
            "        [-14.4646],\n",
            "        [  0.6116],\n",
            "        [ -6.1774],\n",
            "        [ -7.9807],\n",
            "        [ -1.3162],\n",
            "        [ -7.9844],\n",
            "        [  3.3573],\n",
            "        [  1.5777],\n",
            "        [ -7.7345],\n",
            "        [  1.9906],\n",
            "        [  0.4570],\n",
            "        [  1.5296],\n",
            "        [ -4.7568],\n",
            "        [-18.8214],\n",
            "        [ -7.7655],\n",
            "        [ -1.5785],\n",
            "        [ -0.2879],\n",
            "        [ 23.5711],\n",
            "        [-10.3734],\n",
            "        [ 15.7480],\n",
            "        [ -6.2985],\n",
            "        [ 24.0698],\n",
            "        [  2.7857],\n",
            "        [  0.6628],\n",
            "        [ -4.3704],\n",
            "        [  7.6260],\n",
            "        [  4.4151],\n",
            "        [ 11.6514],\n",
            "        [ 20.1539],\n",
            "        [  2.1518],\n",
            "        [ -5.2419],\n",
            "        [ -1.8600],\n",
            "        [ -6.4464],\n",
            "        [ 15.3925],\n",
            "        [ -8.6959],\n",
            "        [-33.3115],\n",
            "        [ -7.4787],\n",
            "        [ 11.1735],\n",
            "        [  2.9814],\n",
            "        [ -5.9619],\n",
            "        [-10.0553],\n",
            "        [ -2.1061],\n",
            "        [ -0.0755],\n",
            "        [ 16.7343],\n",
            "        [  0.1034],\n",
            "        [  9.8371],\n",
            "        [  8.7929],\n",
            "        [ -9.9624],\n",
            "        [ -8.3126],\n",
            "        [ -4.6102],\n",
            "        [ -5.6008],\n",
            "        [  3.9558],\n",
            "        [ -9.8228],\n",
            "        [ 13.2639],\n",
            "        [  8.5472],\n",
            "        [ -6.5397],\n",
            "        [  7.3169],\n",
            "        [-14.3439],\n",
            "        [ -5.0081],\n",
            "        [ -9.2758],\n",
            "        [ 11.1196],\n",
            "        [  6.1554],\n",
            "        [  1.9382],\n",
            "        [-25.8321],\n",
            "        [  8.5394],\n",
            "        [ 12.4657],\n",
            "        [  5.0572],\n",
            "        [-14.7823],\n",
            "        [-11.3342],\n",
            "        [ -1.0103],\n",
            "        [  3.4335],\n",
            "        [-10.7028],\n",
            "        [ -8.7426],\n",
            "        [-14.6480],\n",
            "        [-12.6293]]) tensor([[ -4.9327],\n",
            "        [-17.3884],\n",
            "        [ -0.5298],\n",
            "        [ -2.3300],\n",
            "        [ -5.8152],\n",
            "        [-17.5772],\n",
            "        [ -7.0115],\n",
            "        [ -9.7046],\n",
            "        [ -7.4677],\n",
            "        [ -1.4945],\n",
            "        [ -4.1567],\n",
            "        [ 16.0101],\n",
            "        [ 12.2479],\n",
            "        [  3.4702],\n",
            "        [ -7.8466],\n",
            "        [ -1.7252],\n",
            "        [  8.9000],\n",
            "        [ -0.4223],\n",
            "        [  5.5456],\n",
            "        [ -0.7567],\n",
            "        [ -7.2546],\n",
            "        [  7.4265],\n",
            "        [  5.2030],\n",
            "        [ 13.3911],\n",
            "        [-17.3156],\n",
            "        [-19.8474],\n",
            "        [ -3.9509],\n",
            "        [ -3.4187],\n",
            "        [ -9.6258],\n",
            "        [ -2.3580],\n",
            "        [-10.2267],\n",
            "        [  0.5870],\n",
            "        [  3.2318],\n",
            "        [-12.3767],\n",
            "        [  4.2630],\n",
            "        [ -0.7633],\n",
            "        [  1.1464],\n",
            "        [ -3.9157],\n",
            "        [-18.7091],\n",
            "        [ -9.6790],\n",
            "        [ -3.6976],\n",
            "        [  7.3834],\n",
            "        [ 25.8827],\n",
            "        [-13.5951],\n",
            "        [ 15.1434],\n",
            "        [ -7.9793],\n",
            "        [ 26.1149],\n",
            "        [  1.2346],\n",
            "        [  3.2873],\n",
            "        [ -1.4086],\n",
            "        [  8.3774],\n",
            "        [  2.0360],\n",
            "        [ 13.2207],\n",
            "        [ 23.8247],\n",
            "        [ -0.6856],\n",
            "        [ -9.3007],\n",
            "        [ -1.8756],\n",
            "        [ -6.6830],\n",
            "        [ 14.2251],\n",
            "        [ -8.9347],\n",
            "        [-31.0301],\n",
            "        [-10.4863],\n",
            "        [ 14.0120],\n",
            "        [  4.0350],\n",
            "        [ -6.4528],\n",
            "        [-11.1300],\n",
            "        [ -2.2844],\n",
            "        [ -7.5513],\n",
            "        [ 17.4611],\n",
            "        [  0.9684],\n",
            "        [  9.5085],\n",
            "        [  9.7306],\n",
            "        [-10.9874],\n",
            "        [ -5.4705],\n",
            "        [ -2.7432],\n",
            "        [ -6.9452],\n",
            "        [  3.0988],\n",
            "        [ -8.6588],\n",
            "        [  9.8335],\n",
            "        [  6.5935],\n",
            "        [-15.2900],\n",
            "        [  5.6149],\n",
            "        [-17.9414],\n",
            "        [ -5.1504],\n",
            "        [-11.2368],\n",
            "        [ 15.7955],\n",
            "        [  7.3557],\n",
            "        [  9.2651],\n",
            "        [-26.9777],\n",
            "        [  9.8374],\n",
            "        [ 17.4154],\n",
            "        [  3.7612],\n",
            "        [-13.0632],\n",
            "        [-16.7229],\n",
            "        [ -1.9288],\n",
            "        [  2.1727],\n",
            "        [ -9.8544],\n",
            "        [ -7.6499],\n",
            "        [-14.8875],\n",
            "        [-11.6041]])\n"
          ]
        }
      ]
    },
    {
      "cell_type": "markdown",
      "source": [
        "WHEN I USED THE LEARNING RATE TO BE 0.01, THE LOSSES WERE INCREASING\n",
        "I HAD REDUCED THE LEARNING RATE TO 0.001"
      ],
      "metadata": {
        "id": "u1tw0tEoWJjK"
      }
    },
    {
      "cell_type": "code",
      "source": [
        "epochs = 100\n",
        "losses = []\n",
        "for i in range(epochs):\n",
        "  y_pred = model.forward(X)\n",
        "  loss = criterion(y_pred, Y)\n",
        "  print(\"epoch:\", i, \"loss:\", loss.item())\n",
        "  losses.append(loss.item())\n",
        "  optimizer.zero_grad() ## INITIALIZE THE GRADIENT TO ZERO BEFORE ACCUMULATION\n",
        "  loss.backward() ## COMPUTE THE GRADIENT AND ACCUMULATE IT\n",
        "  optimizer.step()### STEP WILL UPDATE THE PARAMETERS OF THE MODEL"
      ],
      "metadata": {
        "colab": {
          "base_uri": "https://localhost:8080/"
        },
        "id": "0sqHc3ZgxaDw",
        "outputId": "0cbdf93d-3769-4c55-f557-2019e3a8c5b3"
      },
      "execution_count": null,
      "outputs": [
        {
          "output_type": "stream",
          "name": "stdout",
          "text": [
            "epoch: 0 loss: 36.448326110839844\n",
            "epoch: 1 loss: 25.847070693969727\n",
            "epoch: 2 loss: 19.274921417236328\n",
            "epoch: 3 loss: 15.200486183166504\n",
            "epoch: 4 loss: 12.674422264099121\n",
            "epoch: 5 loss: 11.10822868347168\n",
            "epoch: 6 loss: 10.137072563171387\n",
            "epoch: 7 loss: 9.534791946411133\n",
            "epoch: 8 loss: 9.161184310913086\n",
            "epoch: 9 loss: 8.92933464050293\n",
            "epoch: 10 loss: 8.785365104675293\n",
            "epoch: 11 loss: 8.69587516784668\n",
            "epoch: 12 loss: 8.640159606933594\n",
            "epoch: 13 loss: 8.605380058288574\n",
            "epoch: 14 loss: 8.583581924438477\n",
            "epoch: 15 loss: 8.569831848144531\n",
            "epoch: 16 loss: 8.56106948852539\n",
            "epoch: 17 loss: 8.555403709411621\n",
            "epoch: 18 loss: 8.551656723022461\n",
            "epoch: 19 loss: 8.549099922180176\n",
            "epoch: 20 loss: 8.547282218933105\n",
            "epoch: 21 loss: 8.545924186706543\n",
            "epoch: 22 loss: 8.544849395751953\n",
            "epoch: 23 loss: 8.543954849243164\n",
            "epoch: 24 loss: 8.543170928955078\n",
            "epoch: 25 loss: 8.54245662689209\n",
            "epoch: 26 loss: 8.541786193847656\n",
            "epoch: 27 loss: 8.541145324707031\n",
            "epoch: 28 loss: 8.540521621704102\n",
            "epoch: 29 loss: 8.539909362792969\n",
            "epoch: 30 loss: 8.539307594299316\n",
            "epoch: 31 loss: 8.538711547851562\n",
            "epoch: 32 loss: 8.538119316101074\n",
            "epoch: 33 loss: 8.537530899047852\n",
            "epoch: 34 loss: 8.536945343017578\n",
            "epoch: 35 loss: 8.536364555358887\n",
            "epoch: 36 loss: 8.535784721374512\n",
            "epoch: 37 loss: 8.535205841064453\n",
            "epoch: 38 loss: 8.53463363647461\n",
            "epoch: 39 loss: 8.534061431884766\n",
            "epoch: 40 loss: 8.533492088317871\n",
            "epoch: 41 loss: 8.532923698425293\n",
            "epoch: 42 loss: 8.532360076904297\n",
            "epoch: 43 loss: 8.5317964553833\n",
            "epoch: 44 loss: 8.531234741210938\n",
            "epoch: 45 loss: 8.530675888061523\n",
            "epoch: 46 loss: 8.530119895935059\n",
            "epoch: 47 loss: 8.529565811157227\n",
            "epoch: 48 loss: 8.529012680053711\n",
            "epoch: 49 loss: 8.528463363647461\n",
            "epoch: 50 loss: 8.527915000915527\n",
            "epoch: 51 loss: 8.52737045288086\n",
            "epoch: 52 loss: 8.526826858520508\n",
            "epoch: 53 loss: 8.526284217834473\n",
            "epoch: 54 loss: 8.525745391845703\n",
            "epoch: 55 loss: 8.52520751953125\n",
            "epoch: 56 loss: 8.524674415588379\n",
            "epoch: 57 loss: 8.524140357971191\n",
            "epoch: 58 loss: 8.523609161376953\n",
            "epoch: 59 loss: 8.523080825805664\n",
            "epoch: 60 loss: 8.522553443908691\n",
            "epoch: 61 loss: 8.522029876708984\n",
            "epoch: 62 loss: 8.521507263183594\n",
            "epoch: 63 loss: 8.520986557006836\n",
            "epoch: 64 loss: 8.520466804504395\n",
            "epoch: 65 loss: 8.519950866699219\n",
            "epoch: 66 loss: 8.51943588256836\n",
            "epoch: 67 loss: 8.518924713134766\n",
            "epoch: 68 loss: 8.518413543701172\n",
            "epoch: 69 loss: 8.517904281616211\n",
            "epoch: 70 loss: 8.5173978805542\n",
            "epoch: 71 loss: 8.516894340515137\n",
            "epoch: 72 loss: 8.51639175415039\n",
            "epoch: 73 loss: 8.515891075134277\n",
            "epoch: 74 loss: 8.515393257141113\n",
            "epoch: 75 loss: 8.51489543914795\n",
            "epoch: 76 loss: 8.51440143585205\n",
            "epoch: 77 loss: 8.513909339904785\n",
            "epoch: 78 loss: 8.513418197631836\n",
            "epoch: 79 loss: 8.512928009033203\n",
            "epoch: 80 loss: 8.512442588806152\n",
            "epoch: 81 loss: 8.511958122253418\n",
            "epoch: 82 loss: 8.511473655700684\n",
            "epoch: 83 loss: 8.510993957519531\n",
            "epoch: 84 loss: 8.510513305664062\n",
            "epoch: 85 loss: 8.51003646850586\n",
            "epoch: 86 loss: 8.509560585021973\n",
            "epoch: 87 loss: 8.509086608886719\n",
            "epoch: 88 loss: 8.508615493774414\n",
            "epoch: 89 loss: 8.50814437866211\n",
            "epoch: 90 loss: 8.50767707824707\n",
            "epoch: 91 loss: 8.507209777832031\n",
            "epoch: 92 loss: 8.506745338439941\n",
            "epoch: 93 loss: 8.5062837600708\n",
            "epoch: 94 loss: 8.50582218170166\n",
            "epoch: 95 loss: 8.505363464355469\n",
            "epoch: 96 loss: 8.504904747009277\n",
            "epoch: 97 loss: 8.504449844360352\n",
            "epoch: 98 loss: 8.503996849060059\n",
            "epoch: 99 loss: 8.503543853759766\n"
          ]
        }
      ]
    },
    {
      "cell_type": "markdown",
      "source": [
        "PLOT THE LOSSES"
      ],
      "metadata": {
        "id": "60StWYl7SESA"
      }
    },
    {
      "cell_type": "code",
      "source": [
        "print(losses)"
      ],
      "metadata": {
        "colab": {
          "base_uri": "https://localhost:8080/"
        },
        "id": "kxlk-kLMTfV3",
        "outputId": "aee64fa9-021f-4a45-caf0-f22fbb4046ad"
      },
      "execution_count": null,
      "outputs": [
        {
          "output_type": "stream",
          "name": "stdout",
          "text": [
            "[36.448326110839844, 25.847070693969727, 19.274921417236328, 15.200486183166504, 12.674422264099121, 11.10822868347168, 10.137072563171387, 9.534791946411133, 9.161184310913086, 8.92933464050293, 8.785365104675293, 8.69587516784668, 8.640159606933594, 8.605380058288574, 8.583581924438477, 8.569831848144531, 8.56106948852539, 8.555403709411621, 8.551656723022461, 8.549099922180176, 8.547282218933105, 8.545924186706543, 8.544849395751953, 8.543954849243164, 8.543170928955078, 8.54245662689209, 8.541786193847656, 8.541145324707031, 8.540521621704102, 8.539909362792969, 8.539307594299316, 8.538711547851562, 8.538119316101074, 8.537530899047852, 8.536945343017578, 8.536364555358887, 8.535784721374512, 8.535205841064453, 8.53463363647461, 8.534061431884766, 8.533492088317871, 8.532923698425293, 8.532360076904297, 8.5317964553833, 8.531234741210938, 8.530675888061523, 8.530119895935059, 8.529565811157227, 8.529012680053711, 8.528463363647461, 8.527915000915527, 8.52737045288086, 8.526826858520508, 8.526284217834473, 8.525745391845703, 8.52520751953125, 8.524674415588379, 8.524140357971191, 8.523609161376953, 8.523080825805664, 8.522553443908691, 8.522029876708984, 8.521507263183594, 8.520986557006836, 8.520466804504395, 8.519950866699219, 8.51943588256836, 8.518924713134766, 8.518413543701172, 8.517904281616211, 8.5173978805542, 8.516894340515137, 8.51639175415039, 8.515891075134277, 8.515393257141113, 8.51489543914795, 8.51440143585205, 8.513909339904785, 8.513418197631836, 8.512928009033203, 8.512442588806152, 8.511958122253418, 8.511473655700684, 8.510993957519531, 8.510513305664062, 8.51003646850586, 8.509560585021973, 8.509086608886719, 8.508615493774414, 8.50814437866211, 8.50767707824707, 8.507209777832031, 8.506745338439941, 8.5062837600708, 8.50582218170166, 8.505363464355469, 8.504904747009277, 8.504449844360352, 8.503996849060059, 8.503543853759766]\n"
          ]
        }
      ]
    },
    {
      "cell_type": "code",
      "source": [
        "plt.plot(range(epochs), losses)\n",
        "plt.ylabel('Loss')\n",
        "plt.xlabel('epoch')"
      ],
      "metadata": {
        "colab": {
          "base_uri": "https://localhost:8080/",
          "height": 466
        },
        "id": "hhAHKasGSDiL",
        "outputId": "7dca1c08-f939-4caa-b6de-23356838871b"
      },
      "execution_count": null,
      "outputs": [
        {
          "output_type": "execute_result",
          "data": {
            "text/plain": [
              "Text(0.5, 0, 'epoch')"
            ]
          },
          "metadata": {},
          "execution_count": 23
        },
        {
          "output_type": "display_data",
          "data": {
            "text/plain": [
              "<Figure size 640x480 with 1 Axes>"
            ],
            "image/png": "[encoded data removed]"
          },
          "metadata": {}
        }
      ]
    },
    {
      "cell_type": "code",
      "source": [
        "plot_fit('Trained Model')"
      ],
      "metadata": {
        "colab": {
          "base_uri": "https://localhost:8080/",
          "height": 449
        },
        "id": "4qyw2shHRSvx",
        "outputId": "a8e0d405-062c-483e-a4bf-e3bbdbafc879"
      },
      "execution_count": null,
      "outputs": [
        {
          "output_type": "display_data",
          "data": {
            "text/plain": [
              "<Figure size 640x480 with 1 Axes>"
            ],
            "image/png": "[encoded data removed]"
          },
          "metadata": {}
        }
      ]
    }
  ]
}